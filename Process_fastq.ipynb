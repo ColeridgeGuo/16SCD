{
 "cells": [
  {
   "cell_type": "code",
   "execution_count": 1,
   "metadata": {},
   "outputs": [],
   "source": [
    "import pandas as pd\n",
    "from pandas import DataFrame\n",
    "import os"
   ]
  },
  {
   "cell_type": "code",
   "execution_count": 2,
   "metadata": {},
   "outputs": [
    {
     "name": "stdout",
     "output_type": "stream",
     "text": [
      "(520, 33)\n"
     ]
    },
    {
     "data": {
      "text/html": [
       "<div>\n",
       "<style scoped>\n",
       "    .dataframe tbody tr th:only-of-type {\n",
       "        vertical-align: middle;\n",
       "    }\n",
       "\n",
       "    .dataframe tbody tr th {\n",
       "        vertical-align: top;\n",
       "    }\n",
       "\n",
       "    .dataframe thead th {\n",
       "        text-align: right;\n",
       "    }\n",
       "</style>\n",
       "<table border=\"1\" class=\"dataframe\">\n",
       "  <thead>\n",
       "    <tr style=\"text-align: right;\">\n",
       "      <th></th>\n",
       "      <th>分中心</th>\n",
       "      <th>报告编号_检测地</th>\n",
       "      <th>姓名</th>\n",
       "      <th>性别</th>\n",
       "      <th>年龄</th>\n",
       "      <th>临床诊断</th>\n",
       "      <th>样本类型</th>\n",
       "      <th>检测项目</th>\n",
       "      <th>谷禾公司编号</th>\n",
       "      <th>收样时间</th>\n",
       "      <th>...</th>\n",
       "      <th>外送公司</th>\n",
       "      <th>外送日期</th>\n",
       "      <th>外送人</th>\n",
       "      <th>快递</th>\n",
       "      <th>快递单号</th>\n",
       "      <th>外送公司登记日期</th>\n",
       "      <th>外送公司编号</th>\n",
       "      <th>外送公司报告日期</th>\n",
       "      <th>备注</th>\n",
       "      <th>备注.1</th>\n",
       "    </tr>\n",
       "  </thead>\n",
       "  <tbody>\n",
       "    <tr>\n",
       "      <th>0</th>\n",
       "      <td>承颉投资</td>\n",
       "      <td>BT1712210363LCRFX</td>\n",
       "      <td>黄彬</td>\n",
       "      <td>女</td>\n",
       "      <td>51</td>\n",
       "      <td>健康体检</td>\n",
       "      <td>粪便</td>\n",
       "      <td>微生态平衡检测（健康筛查）</td>\n",
       "      <td>78419523</td>\n",
       "      <td>2017/12/21</td>\n",
       "      <td>...</td>\n",
       "      <td>谷禾</td>\n",
       "      <td>NaN</td>\n",
       "      <td>王政</td>\n",
       "      <td>圆通速递</td>\n",
       "      <td>NaN</td>\n",
       "      <td>NaN</td>\n",
       "      <td>NaN</td>\n",
       "      <td>NaN</td>\n",
       "      <td>无样本留存</td>\n",
       "      <td>NaN</td>\n",
       "    </tr>\n",
       "    <tr>\n",
       "      <th>1</th>\n",
       "      <td>大同煤总中心</td>\n",
       "      <td>BT1712220362LCRFX</td>\n",
       "      <td>张春荣</td>\n",
       "      <td>女</td>\n",
       "      <td>90</td>\n",
       "      <td>乏力（待查）食欲不振胃肠功能紊乱</td>\n",
       "      <td>粪便</td>\n",
       "      <td>肠道菌群微生态平衡检测</td>\n",
       "      <td>17147677</td>\n",
       "      <td>2017/12/22</td>\n",
       "      <td>...</td>\n",
       "      <td>谷禾</td>\n",
       "      <td>NaN</td>\n",
       "      <td>王政</td>\n",
       "      <td>圆通速递</td>\n",
       "      <td>NaN</td>\n",
       "      <td>NaN</td>\n",
       "      <td>NaN</td>\n",
       "      <td>NaN</td>\n",
       "      <td>NaN</td>\n",
       "      <td>NaN</td>\n",
       "    </tr>\n",
       "    <tr>\n",
       "      <th>2</th>\n",
       "      <td>廊坊人民中心</td>\n",
       "      <td>BT1712240427LCRFX</td>\n",
       "      <td>田喜茹</td>\n",
       "      <td>女</td>\n",
       "      <td>1900年2月22日</td>\n",
       "      <td>便秘</td>\n",
       "      <td>粪便</td>\n",
       "      <td>肠道菌群微生态平衡检测</td>\n",
       "      <td>36020309</td>\n",
       "      <td>2017/12/24</td>\n",
       "      <td>...</td>\n",
       "      <td>谷禾</td>\n",
       "      <td>NaN</td>\n",
       "      <td>王政</td>\n",
       "      <td>圆通速递</td>\n",
       "      <td>NaN</td>\n",
       "      <td>NaN</td>\n",
       "      <td>NaN</td>\n",
       "      <td>NaN</td>\n",
       "      <td>NaN</td>\n",
       "      <td>NaN</td>\n",
       "    </tr>\n",
       "    <tr>\n",
       "      <th>3</th>\n",
       "      <td>南阳二院中心</td>\n",
       "      <td>BT1712240434HCRFX</td>\n",
       "      <td>高翠</td>\n",
       "      <td>女</td>\n",
       "      <td>63岁</td>\n",
       "      <td>undefined</td>\n",
       "      <td>粪便</td>\n",
       "      <td>肠道菌群微生态平衡检测</td>\n",
       "      <td>71395240</td>\n",
       "      <td>2017/12/24</td>\n",
       "      <td>...</td>\n",
       "      <td>谷禾</td>\n",
       "      <td>科研编号：BTC技术2017016</td>\n",
       "      <td>王政</td>\n",
       "      <td>圆通速递</td>\n",
       "      <td>NaN</td>\n",
       "      <td>NaN</td>\n",
       "      <td>NaN</td>\n",
       "      <td>NaN</td>\n",
       "      <td>NaN</td>\n",
       "      <td>NaN</td>\n",
       "    </tr>\n",
       "    <tr>\n",
       "      <th>4</th>\n",
       "      <td>南阳二院中心</td>\n",
       "      <td>BT1712240438HCRFX</td>\n",
       "      <td>石长文</td>\n",
       "      <td>男</td>\n",
       "      <td>71</td>\n",
       "      <td>undefined</td>\n",
       "      <td>粪便</td>\n",
       "      <td>肠道菌群微生态平衡检测</td>\n",
       "      <td>59365756</td>\n",
       "      <td>2017/12/24</td>\n",
       "      <td>...</td>\n",
       "      <td>谷禾</td>\n",
       "      <td>科研编号：BTC技术2017016</td>\n",
       "      <td>王政</td>\n",
       "      <td>圆通速递</td>\n",
       "      <td>NaN</td>\n",
       "      <td>NaN</td>\n",
       "      <td>NaN</td>\n",
       "      <td>NaN</td>\n",
       "      <td>NaN</td>\n",
       "      <td>NaN</td>\n",
       "    </tr>\n",
       "  </tbody>\n",
       "</table>\n",
       "<p>5 rows × 33 columns</p>\n",
       "</div>"
      ],
      "text/plain": [
       "      分中心           报告编号_检测地   姓名 性别          年龄              临床诊断 样本类型  \\\n",
       "0    承颉投资  BT1712210363LCRFX   黄彬  女          51              健康体检   粪便   \n",
       "1  大同煤总中心  BT1712220362LCRFX  张春荣  女          90  乏力（待查）食欲不振胃肠功能紊乱   粪便   \n",
       "2  廊坊人民中心  BT1712240427LCRFX  田喜茹  女  1900年2月22日                便秘   粪便   \n",
       "3  南阳二院中心  BT1712240434HCRFX   高翠  女         63岁         undefined   粪便   \n",
       "4  南阳二院中心  BT1712240438HCRFX  石长文  男          71         undefined   粪便   \n",
       "\n",
       "            检测项目    谷禾公司编号        收样时间  ... 外送公司               外送日期 外送人    快递  \\\n",
       "0  微生态平衡检测（健康筛查）  78419523  2017/12/21  ...   谷禾                NaN  王政  圆通速递   \n",
       "1    肠道菌群微生态平衡检测  17147677  2017/12/22  ...   谷禾                NaN  王政  圆通速递   \n",
       "2    肠道菌群微生态平衡检测  36020309  2017/12/24  ...   谷禾                NaN  王政  圆通速递   \n",
       "3    肠道菌群微生态平衡检测  71395240  2017/12/24  ...   谷禾  科研编号：BTC技术2017016  王政  圆通速递   \n",
       "4    肠道菌群微生态平衡检测  59365756  2017/12/24  ...   谷禾  科研编号：BTC技术2017016  王政  圆通速递   \n",
       "\n",
       "  快递单号 外送公司登记日期 外送公司编号 外送公司报告日期     备注 备注.1  \n",
       "0  NaN      NaN    NaN      NaN  无样本留存  NaN  \n",
       "1  NaN      NaN    NaN      NaN    NaN  NaN  \n",
       "2  NaN      NaN    NaN      NaN    NaN  NaN  \n",
       "3  NaN      NaN    NaN      NaN    NaN  NaN  \n",
       "4  NaN      NaN    NaN      NaN    NaN  NaN  \n",
       "\n",
       "[5 rows x 33 columns]"
      ]
     },
     "execution_count": 2,
     "metadata": {},
     "output_type": "execute_result"
    }
   ],
   "source": [
    "# Read the file\n",
    "df = pd.read_csv(\"..\\\\data\\\\微生态数据.txt\",\n",
    "                 encoding=\"gbk\",\n",
    "                 delimiter=\"\\t\",\n",
    "                 error_bad_lines=False,\n",
    "                 dtype=object)\n",
    "print(df.shape)\n",
    "df.head()"
   ]
  },
  {
   "cell_type": "code",
   "execution_count": 3,
   "metadata": {},
   "outputs": [],
   "source": [
    "# Change LADA to Chinese\n",
    "LADA_index = df.loc[df[\"临床诊断\"] == \"LADA\"].index[0]\n",
    "df.at[LADA_index, \"临床诊断\"] = \"成人隐匿迟发性自身免疫糖尿病\""
   ]
  },
  {
   "cell_type": "code",
   "execution_count": 4,
   "metadata": {},
   "outputs": [
    {
     "data": {
      "text/plain": [
       "144"
      ]
     },
     "execution_count": 4,
     "metadata": {},
     "output_type": "execute_result"
    }
   ],
   "source": [
    "# Count the # of unique diagnosis and the # of of patients for each\n",
    "diagnosis = df[\"临床诊断\"].value_counts()\n",
    "len(diagnosis)"
   ]
  },
  {
   "cell_type": "code",
   "execution_count": 5,
   "metadata": {},
   "outputs": [
    {
     "data": {
      "text/plain": [
       "{'高血压': ['高血压'],\n",
       " '结直肠癌': ['结肠', '直肠'],\n",
       " '糖尿病': ['糖尿病'],\n",
       " '肥胖': ['肥胖'],\n",
       " '胸痛胸闷': ['胸痛', '胸闷'],\n",
       " '胆结石': ['结石'],\n",
       " '心血管': ['心脏病', '后循环缺血', '血脂', '心力衰竭', '心功能不全', '心律失常', '心悸', '心肌梗死', '脑出血'],\n",
       " '便秘': ['便秘'],\n",
       " '胃肠炎': ['胃肠炎', '胃肠功能紊乱'],\n",
       " '健康': ['健康'],\n",
       " '帕金森': ['帕金森'],\n",
       " '癫痫': ['癫痫', '子痫'],\n",
       " '对照': ['对照']}"
      ]
     },
     "execution_count": 5,
     "metadata": {},
     "output_type": "execute_result"
    }
   ],
   "source": [
    "# Initialize a dictionary of keywords of each disease\n",
    "types = [\"高血压\",\"结直肠癌\",\"糖尿病\",\"肥胖\",\"胸痛胸闷\",\"胆结石\",\"心血管\",\"便秘\",\"胃肠炎\",\"健康\",\"帕金森\",\"癫痫\",\"对照\"]\n",
    "kw_dict = {key:[key] for key in types}\n",
    "\n",
    "kw_dict[\"结直肠癌\"] = [\"结肠\",\"直肠\"] #结直肠癌\n",
    "kw_dict[\"胸痛胸闷\"] = [\"胸痛\",\"胸闷\"] #胸痛胸闷\n",
    "kw_dict[\"胆结石\"] = [\"结石\"] #胆结石\n",
    "kw_dict[\"心血管\"] = [\"心脏病\",\"后循环缺血\",\"血脂\",\"心力衰竭\",\"心功能不全\",\"心律失常\",\"心悸\",\"心肌梗死\",\"脑出血\"] #心血管\n",
    "kw_dict[\"胃肠炎\"].extend([\"胃肠功能紊乱\"]) #胃肠炎\n",
    "kw_dict[\"癫痫\"].extend([\"子痫\"]) #癫痫\n",
    "kw_dict"
   ]
  },
  {
   "cell_type": "code",
   "execution_count": 6,
   "metadata": {},
   "outputs": [
    {
     "data": {
      "text/plain": [
       "{'高血压': 19,\n",
       " '结直肠癌': 56,\n",
       " '糖尿病': 93,\n",
       " '肥胖': 4,\n",
       " '胸痛胸闷': 41,\n",
       " '胆结石': 16,\n",
       " '心血管': 79,\n",
       " '便秘': 7,\n",
       " '胃肠炎': 12,\n",
       " '健康': 8,\n",
       " '帕金森': 0,\n",
       " '癫痫': 10,\n",
       " '对照': 0}"
      ]
     },
     "execution_count": 6,
     "metadata": {},
     "output_type": "execute_result"
    }
   ],
   "source": [
    "# Count the frequency of each disease\n",
    "frq_count = {key:0 for key in types}\n",
    "id_list = {key:[] for key in types}\n",
    "\n",
    "def select_type(df: DataFrame, name: str, key: str) -> int:\n",
    "    \"\"\" \n",
    "        Count the # of instances for the disease given by key \n",
    "        and store the ID number of each patient in a dictionary\n",
    "    \"\"\"\n",
    "    selected = df[df[\"临床诊断\"].str.contains(name, na=False)]\n",
    "    id_list[key].extend(selected[\"谷禾公司编号\"].to_list())\n",
    "    return len(selected)\n",
    "\n",
    "for key, val in kw_dict.items():\n",
    "    for name in val:\n",
    "        frq_count[key] += select_type(df, name, key)\n",
    "        \n",
    "frq_count"
   ]
  },
  {
   "cell_type": "code",
   "execution_count": 7,
   "metadata": {},
   "outputs": [],
   "source": [
    "def check_format(fp: str) -> bool:\n",
    "    \"\"\" Check if the format of the fastq file is correct \"\"\"\n",
    "    try:\n",
    "        with open(fp) as file:\n",
    "            for line_num, line in enumerate(file):\n",
    "                # a plus sign every 4 lines\n",
    "                if not (line_num - 2)%4 and line.rstrip() != \"+\":\n",
    "                    return False\n",
    "                # 151 characters long every odd line\n",
    "                if line_num % 2 == 1 and len(line.rstrip()) != 151:\n",
    "                    return False\n",
    "        return True\n",
    "    except FileNotFoundError:\n",
    "        return False"
   ]
  },
  {
   "cell_type": "code",
   "execution_count": 8,
   "metadata": {},
   "outputs": [],
   "source": [
    "# Move two fastq files to folder only if both exist\n",
    "# NO NEED TO RE-RUN\n",
    "from shutil import copy\n",
    "\n",
    "def move_fastq(l: list, folder: str) -> list:\n",
    "    \n",
    "    del_list = set()\n",
    "    for id_num in l:\n",
    "    \n",
    "        curdir = \"..\\\\data\\\\fastq_baoteng\" # directory of fastq files\n",
    "        fn1 = f\"{id_num:0>9}_1.fastq\" # filename of fastq file #1\n",
    "        fn2 = f\"{id_num:0>9}_2.fastq\" # filename of fastq file #2\n",
    "        fp1 = os.path.join(curdir, fn1) # global path to fastq file 1\n",
    "        fp2 = os.path.join(curdir, fn2) # global path to fastq file 2\n",
    "        \n",
    "        if check_format(fp1) and check_format(fp2):\n",
    "            copy(fp1, os.path.join(\"..\\\\result\", folder))\n",
    "            copy(fp2, os.path.join(\"..\\\\result\", folder))\n",
    "            print(f\"文件复制成功: {id_num}\")\n",
    "        else:\n",
    "            del_list.add(id_num)\n",
    "            print(f\"文件损坏或缺失： {id_num}\")\n",
    "            \n",
    "    return del_list"
   ]
  },
  {
   "cell_type": "code",
   "execution_count": 9,
   "metadata": {},
   "outputs": [
    {
     "name": "stdout",
     "output_type": "stream",
     "text": [
      "文件复制成功: 64272008\n",
      "文件复制成功: 16607900\n",
      "文件复制成功: 80098432\n",
      "文件复制成功: 1063714\n",
      "文件复制成功: 35625116\n",
      "文件复制成功: 74668125\n",
      "文件复制成功: 20540465\n",
      "文件复制成功: 68404683\n",
      "文件复制成功: 47897243\n",
      "文件复制成功: 48981332\n",
      "文件复制成功: 6433716\n",
      "文件复制成功: 77815645\n",
      "文件复制成功: 212406565\n",
      "文件复制成功: 290246588\n",
      "文件复制成功: 275334254\n",
      "文件复制成功: 260199619\n",
      "文件复制成功: 282386914\n",
      "文件复制成功: 226447529\n",
      "文件复制成功: 247443188\n",
      "文件复制成功: 205338649\n",
      "文件复制成功: 294408542\n",
      "文件复制成功: 284171308\n",
      "文件复制成功: 285016962\n",
      "文件复制成功: 207466091\n",
      "文件复制成功: 28413823\n",
      "文件复制成功: 58712861\n",
      "文件复制成功: 73027283\n",
      "文件复制成功: 51989304\n",
      "文件复制成功: 3940838\n",
      "文件复制成功: 83825407\n",
      "文件复制成功: 73746752\n",
      "文件复制成功: 67377699\n",
      "文件复制成功: 20338609\n",
      "文件复制成功: 225497908\n",
      "文件复制成功: 201359904\n",
      "文件复制成功: 86138562\n",
      "文件复制成功: 46522778\n",
      "文件复制成功: 63526139\n",
      "文件复制成功: 296585974\n",
      "文件复制成功: 75707577\n",
      "文件复制成功: 230810038\n",
      "文件复制成功: 243234323\n",
      "文件复制成功: 52489767\n",
      "文件复制成功: 7559814\n",
      "文件复制成功: 13252989\n",
      "文件复制成功: 13790645\n",
      "文件复制成功: 16339160\n",
      "文件复制成功: 7204448\n",
      "文件复制成功: 48392795\n",
      "文件复制成功: 30061790\n",
      "文件复制成功: 88631081\n",
      "文件复制成功: 55156639\n",
      "文件复制成功: 53653910\n",
      "文件复制成功: 91197625\n",
      "文件复制成功: 50861904\n",
      "文件复制成功: 87017625\n",
      "文件复制成功: 66033110\n",
      "文件复制成功: 276415474\n",
      "文件复制成功: 259985229\n",
      "文件复制成功: 278962381\n",
      "文件复制成功: 267196793\n",
      "文件复制成功: 293150059\n",
      "文件复制成功: 268329404\n",
      "文件复制成功: 288075234\n",
      "文件复制成功: 243287959\n",
      "文件复制成功: 261263869\n",
      "文件复制成功: 271053232\n",
      "文件复制成功: 299673925\n",
      "文件复制成功: 227517182\n",
      "文件复制成功: 246709126\n",
      "文件复制成功: 270613525\n",
      "文件复制成功: 226340824\n",
      "文件复制成功: 262653274\n",
      "文件复制成功: 283608483\n",
      "文件复制成功: 263166736\n",
      "文件复制成功: 203989096\n",
      "文件复制成功: 226362061\n",
      "文件复制成功: 77405233\n",
      "文件复制成功: 210455789\n"
     ]
    }
   ],
   "source": [
    "del_list_cvd = move_fastq(id_list[\"心血管\"], \"心血管\\\\\")"
   ]
  },
  {
   "cell_type": "code",
   "execution_count": 10,
   "metadata": {},
   "outputs": [
    {
     "data": {
      "text/plain": [
       "79"
      ]
     },
     "execution_count": 10,
     "metadata": {},
     "output_type": "execute_result"
    }
   ],
   "source": [
    "id_list[\"心血管\"] = [x for x in id_list[\"心血管\"] if x not in del_list_cvd]\n",
    "len(id_list[\"心血管\"])"
   ]
  },
  {
   "cell_type": "code",
   "execution_count": 11,
   "metadata": {},
   "outputs": [],
   "source": [
    "# Write to file\n",
    "df[df[\"谷禾公司编号\"].isin(id_list[\"心血管\"])][[\"临床诊断\",\"谷禾公司编号\"]].to_csv(\"..\\\\result\\\\心血管.csv\",\n",
    "                                                                encoding=\"gbk\",\n",
    "                                                                index=False)"
   ]
  },
  {
   "cell_type": "code",
   "execution_count": 12,
   "metadata": {},
   "outputs": [],
   "source": [
    "# Write those with missing fastq files to a file\n",
    "with open(\"..\\\\result\\\\fastq文件缺失.txt\", 'w+') as f:\n",
    "    for num in del_list_cvd:\n",
    "        f.write(f\"{int(num):0>9}\\n\")"
   ]
  },
  {
   "cell_type": "code",
   "execution_count": 13,
   "metadata": {},
   "outputs": [
    {
     "data": {
      "text/plain": [
       "75"
      ]
     },
     "execution_count": 13,
     "metadata": {},
     "output_type": "execute_result"
    }
   ],
   "source": [
    "healthy_disease = {\"健康查体\",\n",
    "                   \"健康体检\",\n",
    "                   \"子痫前期\",\n",
    "                   \"肺炎\",\n",
    "                   \"急性胰腺炎\",\n",
    "                   \"支气管肺炎\",\n",
    "                   \"急性支气管肺炎\",\n",
    "                   \"一般性医学检查\",\n",
    "                   \"疱疹性咽峡炎\",\n",
    "                   \"癫痫\",\n",
    "                   \"甲减肺炎哮喘\"\n",
    "                   ,\"睡眠障碍\",\n",
    "                   \"甲状腺功能减退症\",\n",
    "                   \"疖肿\",\n",
    "                   \"颈椎不稳定\",\n",
    "                   \"咳嗽\",\n",
    "                   \"呕吐2天.发烧一天\",\n",
    "                   \"体检\",\n",
    "                   \"头晕和眩晕\",\n",
    "                   \"未知\",\n",
    "                   \"无\",\n",
    "                   \"消化不良\"}\n",
    "selected = df[df[\"临床诊断\"].isin(healthy_disease)]\n",
    "id_list[\"对照\"] = list(selected[\"谷禾公司编号\"])\n",
    "len(id_list[\"对照\"])"
   ]
  },
  {
   "cell_type": "code",
   "execution_count": 14,
   "metadata": {},
   "outputs": [
    {
     "name": "stdout",
     "output_type": "stream",
     "text": [
      "文件复制成功: 78419523\n",
      "文件复制成功: 97994914\n",
      "文件复制成功: 23990796\n",
      "文件复制成功: 95628714\n",
      "文件复制成功: 89510985\n",
      "文件复制成功: 79634669\n",
      "文件复制成功: 10328212\n",
      "文件复制成功: 77923690\n",
      "文件复制成功: 49838963\n",
      "文件复制成功: 48541647\n",
      "文件复制成功: 88006179\n",
      "文件复制成功: 50329624\n",
      "文件复制成功: 37779913\n",
      "文件复制成功: 33783588\n",
      "文件复制成功: 39466366\n",
      "文件复制成功: 77322595\n",
      "文件复制成功: 82831840\n",
      "文件复制成功: 40931638\n",
      "文件复制成功: 20134530\n",
      "文件复制成功: 80652682\n",
      "文件复制成功: 11087318\n",
      "文件复制成功: 81518468\n",
      "文件复制成功: 66626534\n",
      "文件复制成功: 68103971\n",
      "文件复制成功: 26844805\n",
      "文件复制成功: 58664581\n",
      "文件复制成功: 58474301\n",
      "文件复制成功: 61540721\n",
      "文件复制成功: 28795968\n",
      "文件复制成功: 4380559\n",
      "文件复制成功: 5254362\n",
      "文件复制成功: 79450463\n",
      "文件复制成功: 44818711\n",
      "文件复制成功: 75667750\n",
      "文件复制成功: 28263878\n",
      "文件复制成功: 74051281\n",
      "文件复制成功: 24795759\n",
      "文件复制成功: 92095935\n",
      "文件复制成功: 72522653\n",
      "文件复制成功: 83820369\n",
      "文件复制成功: 39195460\n",
      "文件复制成功: 30432977\n",
      "文件复制成功: 38070812\n",
      "文件复制成功: 80949288\n",
      "文件复制成功: 3314627\n",
      "文件复制成功: 78646901\n",
      "文件复制成功: 85328708\n",
      "文件复制成功: 84825914\n",
      "文件复制成功: 48948354\n",
      "文件复制成功: 46177168\n",
      "文件损坏或缺失： 50200953\n",
      "文件损坏或缺失： 20542857\n",
      "文件损坏或缺失： 24341940\n",
      "文件损坏或缺失： 25684689\n",
      "文件损坏或缺失： 46358340\n",
      "文件损坏或缺失： 79541007\n",
      "文件损坏或缺失： 83421188\n",
      "文件损坏或缺失： 78491631\n",
      "文件损坏或缺失： 233563264\n",
      "文件损坏或缺失： 200574247\n",
      "文件损坏或缺失： 242987650\n",
      "文件损坏或缺失： 254119900\n",
      "文件损坏或缺失： 284981723\n",
      "文件损坏或缺失： 296128836\n",
      "文件损坏或缺失： 269566339\n",
      "文件损坏或缺失： 234202514\n",
      "文件损坏或缺失： 287809052\n",
      "文件损坏或缺失： 296334689\n",
      "文件损坏或缺失： 228406812\n",
      "文件损坏或缺失： 235529257\n",
      "文件损坏或缺失： 289736157\n",
      "文件损坏或缺失： 271070307\n",
      "文件损坏或缺失： 289755042\n",
      "文件损坏或缺失： 209173246\n",
      "文件损坏或缺失： 250578798\n"
     ]
    }
   ],
   "source": [
    "del_list_healthy = move_fastq(id_list[\"对照\"], \"对照\\\\\")"
   ]
  },
  {
   "cell_type": "code",
   "execution_count": 15,
   "metadata": {},
   "outputs": [
    {
     "data": {
      "text/plain": [
       "25"
      ]
     },
     "execution_count": 15,
     "metadata": {},
     "output_type": "execute_result"
    }
   ],
   "source": [
    "len(del_list_healthy)"
   ]
  },
  {
   "cell_type": "code",
   "execution_count": 16,
   "metadata": {},
   "outputs": [
    {
     "data": {
      "text/plain": [
       "50"
      ]
     },
     "execution_count": 16,
     "metadata": {},
     "output_type": "execute_result"
    }
   ],
   "source": [
    "id_list[\"对照\"] = [x for x in id_list[\"对照\"] if x not in del_list_healthy]\n",
    "len(id_list[\"对照\"])"
   ]
  },
  {
   "cell_type": "code",
   "execution_count": 17,
   "metadata": {},
   "outputs": [],
   "source": [
    "# Write to file\n",
    "df[df[\"谷禾公司编号\"].isin(id_list[\"对照\"])][[\"临床诊断\",\"谷禾公司编号\"]].to_csv(\"..\\\\result\\\\对照.csv\", \n",
    "                                                               encoding=\"gbk\",\n",
    "                                                               index=False)"
   ]
  },
  {
   "cell_type": "code",
   "execution_count": null,
   "metadata": {},
   "outputs": [],
   "source": []
  }
 ],
 "metadata": {
  "kernelspec": {
   "display_name": "Python 3",
   "language": "python",
   "name": "python3"
  },
  "language_info": {
   "codemirror_mode": {
    "name": "ipython",
    "version": 3
   },
   "file_extension": ".py",
   "mimetype": "text/x-python",
   "name": "python",
   "nbconvert_exporter": "python",
   "pygments_lexer": "ipython3",
   "version": "3.7.3"
  }
 },
 "nbformat": 4,
 "nbformat_minor": 2
}
