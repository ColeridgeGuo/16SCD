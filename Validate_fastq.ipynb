{
 "cells": [
  {
   "cell_type": "code",
   "execution_count": 1,
   "metadata": {},
   "outputs": [],
   "source": [
    "import os\n",
    "import shutil"
   ]
  },
  {
   "cell_type": "code",
   "execution_count": 2,
   "metadata": {},
   "outputs": [
    {
     "name": "stdout",
     "output_type": "stream",
     "text": [
      "['000607350_1.fastq', '000607350_2.fastq', '001007907_1.fastq', '001007907_2.fastq', '001063714_1.fastq']\n"
     ]
    }
   ],
   "source": [
    "data_path = \"..\\\\data\\\\fastq_baoteng\"\n",
    "file_list = os.listdir(data_path)\n",
    "len(file_list)\n",
    "print(file_list[:5])"
   ]
  },
  {
   "cell_type": "code",
   "execution_count": 3,
   "metadata": {},
   "outputs": [],
   "source": [
    "def check_format(fp: str) -> bool:\n",
    "    \"\"\" Check if the format of the fastq file is correct \"\"\"\n",
    "    try:\n",
    "        with open(fp) as file:\n",
    "            for line_num, line in enumerate(file):\n",
    "                # a plus sign every 4 lines\n",
    "                if not (line_num - 2)%4 and line.rstrip() != \"+\":\n",
    "                    return False\n",
    "                # 151 characters long for odd lines\n",
    "                if line_num % 2 == 1 and len(line.rstrip()) != 151:\n",
    "                    return False\n",
    "        return True\n",
    "    except:\n",
    "        return False"
   ]
  },
  {
   "cell_type": "code",
   "execution_count": 4,
   "metadata": {},
   "outputs": [
    {
     "name": "stdout",
     "output_type": "stream",
     "text": [
      "文件有问题: 032281670_1.fastq\n",
      "文件有问题: 062654658_1.fastq\n"
     ]
    }
   ],
   "source": [
    "from collections import defaultdict\n",
    "\n",
    "file_dict = defaultdict(list)\n",
    "\n",
    "for file in file_list:\n",
    "    fname, _ = file.split('.')\n",
    "    id_num, fnum = fname.split('_')\n",
    "    if check_format(os.path.join(data_path, file)):\n",
    "        if file_dict[id_num]:\n",
    "            if fnum == 1:\n",
    "                file_dict[id_num].append(1) \n",
    "            else:\n",
    "                file_dict[id_num].append(2)\n",
    "        else:\n",
    "            file_dict[id_num] = [int(fnum)]\n",
    "    else:\n",
    "        print(f\"文件有问题: {file}\")"
   ]
  },
  {
   "cell_type": "code",
   "execution_count": 5,
   "metadata": {},
   "outputs": [
    {
     "data": {
      "text/plain": [
       "['032281670', '062654658']"
      ]
     },
     "execution_count": 5,
     "metadata": {},
     "output_type": "execute_result"
    }
   ],
   "source": [
    "[fname for fname in file_dict if len(file_dict[fname]) != 2]"
   ]
  },
  {
   "cell_type": "code",
   "execution_count": 10,
   "metadata": {},
   "outputs": [],
   "source": [
    "def check_format2(fp: str) -> bool:\n",
    "    \"\"\" Check if the format of the fastq file is correct \"\"\"\n",
    "    try:\n",
    "        with open(fp) as file:\n",
    "            for line_num, line in enumerate(file):\n",
    "                # a plus sign every 4 lines\n",
    "                if not (line_num - 2)%4 and line.rstrip() != \"+\":\n",
    "                    print(f\"+ sign format wrong at line {line_num}\")\n",
    "                    return False\n",
    "                # 151 characters long for odd lines\n",
    "                if line_num % 2 == 1 and len(line.rstrip()) != 151:\n",
    "                    print(f\"Not 151 char at line {line_num}\")\n",
    "                    return False\n",
    "        return True\n",
    "    except FileNotFoundError:\n",
    "        print(\"Did not find file\")\n",
    "        return False"
   ]
  },
  {
   "cell_type": "code",
   "execution_count": 11,
   "metadata": {},
   "outputs": [
    {
     "name": "stdout",
     "output_type": "stream",
     "text": [
      "+ sign format wrong at line 228706\n"
     ]
    },
    {
     "data": {
      "text/plain": [
       "False"
      ]
     },
     "execution_count": 11,
     "metadata": {},
     "output_type": "execute_result"
    }
   ],
   "source": [
    "check_format2(os.path.join(data_path, \"032281670_1.fastq\"))"
   ]
  },
  {
   "cell_type": "code",
   "execution_count": 12,
   "metadata": {},
   "outputs": [
    {
     "name": "stdout",
     "output_type": "stream",
     "text": [
      "+ sign format wrong at line 263842\n"
     ]
    },
    {
     "data": {
      "text/plain": [
       "False"
      ]
     },
     "execution_count": 12,
     "metadata": {},
     "output_type": "execute_result"
    }
   ],
   "source": [
    "check_format2(os.path.join(data_path, \"062654658_1.fastq\"))"
   ]
  },
  {
   "cell_type": "code",
   "execution_count": null,
   "metadata": {},
   "outputs": [],
   "source": []
  }
 ],
 "metadata": {
  "kernelspec": {
   "display_name": "Python 3",
   "language": "python",
   "name": "python3"
  },
  "language_info": {
   "codemirror_mode": {
    "name": "ipython",
    "version": 3
   },
   "file_extension": ".py",
   "mimetype": "text/x-python",
   "name": "python",
   "nbconvert_exporter": "python",
   "pygments_lexer": "ipython3",
   "version": "3.7.3"
  }
 },
 "nbformat": 4,
 "nbformat_minor": 2
}
