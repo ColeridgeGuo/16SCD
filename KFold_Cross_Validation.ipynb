{
 "cells": [
  {
   "cell_type": "code",
   "execution_count": 1,
   "metadata": {},
   "outputs": [],
   "source": [
    "import pandas as pd\n",
    "from pandas import DataFrame\n",
    "import seaborn as sns\n",
    "import numpy as np\n",
    "from matplotlib import pyplot as plt"
   ]
  },
  {
   "cell_type": "code",
   "execution_count": 2,
   "metadata": {},
   "outputs": [
    {
     "name": "stdout",
     "output_type": "stream",
     "text": [
      "(129, 9)\n"
     ]
    },
    {
     "data": {
      "text/html": [
       "<div>\n",
       "<style scoped>\n",
       "    .dataframe tbody tr th:only-of-type {\n",
       "        vertical-align: middle;\n",
       "    }\n",
       "\n",
       "    .dataframe tbody tr th {\n",
       "        vertical-align: top;\n",
       "    }\n",
       "\n",
       "    .dataframe thead th {\n",
       "        text-align: right;\n",
       "    }\n",
       "</style>\n",
       "<table border=\"1\" class=\"dataframe\">\n",
       "  <thead>\n",
       "    <tr style=\"text-align: right;\">\n",
       "      <th></th>\n",
       "      <th>id</th>\n",
       "      <th>Subgroup_6_ge</th>\n",
       "      <th>Sphingomonadaceae_unclassified</th>\n",
       "      <th>Enterococcus</th>\n",
       "      <th>Sphingomonas</th>\n",
       "      <th>Chitinophagaceae_unclassified</th>\n",
       "      <th>Mitsuokella</th>\n",
       "      <th>Methylobacterium</th>\n",
       "      <th>diagnosis</th>\n",
       "    </tr>\n",
       "  </thead>\n",
       "  <tbody>\n",
       "    <tr>\n",
       "      <th>0</th>\n",
       "      <td>1063714</td>\n",
       "      <td>0.000000</td>\n",
       "      <td>0.000000</td>\n",
       "      <td>0.000000</td>\n",
       "      <td>0.000000</td>\n",
       "      <td>0.0</td>\n",
       "      <td>0.000000</td>\n",
       "      <td>0.0</td>\n",
       "      <td>1</td>\n",
       "    </tr>\n",
       "    <tr>\n",
       "      <th>1</th>\n",
       "      <td>3314627</td>\n",
       "      <td>0.000000</td>\n",
       "      <td>0.000000</td>\n",
       "      <td>0.000000</td>\n",
       "      <td>0.000000</td>\n",
       "      <td>0.0</td>\n",
       "      <td>0.000000</td>\n",
       "      <td>0.0</td>\n",
       "      <td>0</td>\n",
       "    </tr>\n",
       "    <tr>\n",
       "      <th>2</th>\n",
       "      <td>3940838</td>\n",
       "      <td>0.002571</td>\n",
       "      <td>0.004284</td>\n",
       "      <td>0.094253</td>\n",
       "      <td>0.018851</td>\n",
       "      <td>0.0</td>\n",
       "      <td>0.005998</td>\n",
       "      <td>0.0</td>\n",
       "      <td>1</td>\n",
       "    </tr>\n",
       "    <tr>\n",
       "      <th>3</th>\n",
       "      <td>4380559</td>\n",
       "      <td>0.000000</td>\n",
       "      <td>0.000000</td>\n",
       "      <td>0.000000</td>\n",
       "      <td>0.000000</td>\n",
       "      <td>0.0</td>\n",
       "      <td>0.037661</td>\n",
       "      <td>0.0</td>\n",
       "      <td>0</td>\n",
       "    </tr>\n",
       "    <tr>\n",
       "      <th>4</th>\n",
       "      <td>5254362</td>\n",
       "      <td>0.000000</td>\n",
       "      <td>0.000000</td>\n",
       "      <td>0.155051</td>\n",
       "      <td>0.003844</td>\n",
       "      <td>0.0</td>\n",
       "      <td>0.003844</td>\n",
       "      <td>0.0</td>\n",
       "      <td>0</td>\n",
       "    </tr>\n",
       "  </tbody>\n",
       "</table>\n",
       "</div>"
      ],
      "text/plain": [
       "        id  Subgroup_6_ge  Sphingomonadaceae_unclassified  Enterococcus  \\\n",
       "0  1063714       0.000000                        0.000000      0.000000   \n",
       "1  3314627       0.000000                        0.000000      0.000000   \n",
       "2  3940838       0.002571                        0.004284      0.094253   \n",
       "3  4380559       0.000000                        0.000000      0.000000   \n",
       "4  5254362       0.000000                        0.000000      0.155051   \n",
       "\n",
       "   Sphingomonas  Chitinophagaceae_unclassified  Mitsuokella  Methylobacterium  \\\n",
       "0      0.000000                            0.0     0.000000               0.0   \n",
       "1      0.000000                            0.0     0.000000               0.0   \n",
       "2      0.018851                            0.0     0.005998               0.0   \n",
       "3      0.000000                            0.0     0.037661               0.0   \n",
       "4      0.003844                            0.0     0.003844               0.0   \n",
       "\n",
       "   diagnosis  \n",
       "0          1  \n",
       "1          0  \n",
       "2          1  \n",
       "3          0  \n",
       "4          0  "
      ]
     },
     "execution_count": 2,
     "metadata": {},
     "output_type": "execute_result"
    }
   ],
   "source": [
    "df = pd.read_csv(\"..\\\\data\\\\genus.reabund_reduced.csv\")\n",
    "print(df.shape)\n",
    "df.head()"
   ]
  },
  {
   "cell_type": "code",
   "execution_count": 3,
   "metadata": {},
   "outputs": [
    {
     "data": {
      "text/html": [
       "<div>\n",
       "<style scoped>\n",
       "    .dataframe tbody tr th:only-of-type {\n",
       "        vertical-align: middle;\n",
       "    }\n",
       "\n",
       "    .dataframe tbody tr th {\n",
       "        vertical-align: top;\n",
       "    }\n",
       "\n",
       "    .dataframe thead th {\n",
       "        text-align: right;\n",
       "    }\n",
       "</style>\n",
       "<table border=\"1\" class=\"dataframe\">\n",
       "  <thead>\n",
       "    <tr style=\"text-align: right;\">\n",
       "      <th></th>\n",
       "      <th>Subgroup_6_ge</th>\n",
       "      <th>Sphingomonadaceae_unclassified</th>\n",
       "      <th>Enterococcus</th>\n",
       "      <th>Sphingomonas</th>\n",
       "      <th>Chitinophagaceae_unclassified</th>\n",
       "      <th>Mitsuokella</th>\n",
       "      <th>Methylobacterium</th>\n",
       "      <th>diagnosis</th>\n",
       "    </tr>\n",
       "  </thead>\n",
       "  <tbody>\n",
       "    <tr>\n",
       "      <th>0</th>\n",
       "      <td>0.000000</td>\n",
       "      <td>0.000000</td>\n",
       "      <td>0.000000</td>\n",
       "      <td>0.000000</td>\n",
       "      <td>0.0</td>\n",
       "      <td>0.000000</td>\n",
       "      <td>0.0</td>\n",
       "      <td>1</td>\n",
       "    </tr>\n",
       "    <tr>\n",
       "      <th>1</th>\n",
       "      <td>0.000000</td>\n",
       "      <td>0.000000</td>\n",
       "      <td>0.000000</td>\n",
       "      <td>0.000000</td>\n",
       "      <td>0.0</td>\n",
       "      <td>0.000000</td>\n",
       "      <td>0.0</td>\n",
       "      <td>0</td>\n",
       "    </tr>\n",
       "    <tr>\n",
       "      <th>2</th>\n",
       "      <td>0.002571</td>\n",
       "      <td>0.004284</td>\n",
       "      <td>0.094253</td>\n",
       "      <td>0.018851</td>\n",
       "      <td>0.0</td>\n",
       "      <td>0.005998</td>\n",
       "      <td>0.0</td>\n",
       "      <td>1</td>\n",
       "    </tr>\n",
       "    <tr>\n",
       "      <th>3</th>\n",
       "      <td>0.000000</td>\n",
       "      <td>0.000000</td>\n",
       "      <td>0.000000</td>\n",
       "      <td>0.000000</td>\n",
       "      <td>0.0</td>\n",
       "      <td>0.037661</td>\n",
       "      <td>0.0</td>\n",
       "      <td>0</td>\n",
       "    </tr>\n",
       "    <tr>\n",
       "      <th>4</th>\n",
       "      <td>0.000000</td>\n",
       "      <td>0.000000</td>\n",
       "      <td>0.155051</td>\n",
       "      <td>0.003844</td>\n",
       "      <td>0.0</td>\n",
       "      <td>0.003844</td>\n",
       "      <td>0.0</td>\n",
       "      <td>0</td>\n",
       "    </tr>\n",
       "  </tbody>\n",
       "</table>\n",
       "</div>"
      ],
      "text/plain": [
       "   Subgroup_6_ge  Sphingomonadaceae_unclassified  Enterococcus  Sphingomonas  \\\n",
       "0       0.000000                        0.000000      0.000000      0.000000   \n",
       "1       0.000000                        0.000000      0.000000      0.000000   \n",
       "2       0.002571                        0.004284      0.094253      0.018851   \n",
       "3       0.000000                        0.000000      0.000000      0.000000   \n",
       "4       0.000000                        0.000000      0.155051      0.003844   \n",
       "\n",
       "   Chitinophagaceae_unclassified  Mitsuokella  Methylobacterium  diagnosis  \n",
       "0                            0.0     0.000000               0.0          1  \n",
       "1                            0.0     0.000000               0.0          0  \n",
       "2                            0.0     0.005998               0.0          1  \n",
       "3                            0.0     0.037661               0.0          0  \n",
       "4                            0.0     0.003844               0.0          0  "
      ]
     },
     "execution_count": 3,
     "metadata": {},
     "output_type": "execute_result"
    }
   ],
   "source": [
    "df.drop(labels='id', axis=1, inplace=True)\n",
    "df.head()"
   ]
  },
  {
   "cell_type": "code",
   "execution_count": 4,
   "metadata": {},
   "outputs": [],
   "source": [
    "from sklearn.model_selection import train_test_split\n",
    "from sklearn.model_selection import GridSearchCV, RandomizedSearchCV"
   ]
  },
  {
   "cell_type": "code",
   "execution_count": 5,
   "metadata": {},
   "outputs": [],
   "source": [
    "X = df.iloc[:, :-1]\n",
    "y = df.iloc[:, [-1]]"
   ]
  },
  {
   "cell_type": "code",
   "execution_count": 6,
   "metadata": {},
   "outputs": [],
   "source": [
    "from sklearn.model_selection import KFold, RandomizedSearchCV, GridSearchCV"
   ]
  },
  {
   "cell_type": "markdown",
   "metadata": {},
   "source": [
    "## Random Forest"
   ]
  },
  {
   "cell_type": "code",
   "execution_count": 7,
   "metadata": {},
   "outputs": [],
   "source": [
    "from sklearn.ensemble import RandomForestClassifier as RFC"
   ]
  },
  {
   "cell_type": "code",
   "execution_count": 8,
   "metadata": {},
   "outputs": [
    {
     "name": "stdout",
     "output_type": "stream",
     "text": [
      "{'min_samples_leaf': 6, 'min_samples_split': 16, 'n_estimators': 5}\n",
      "\n",
      "{'min_samples_leaf': 6, 'min_samples_split': 16, 'n_estimators': 10}\n",
      "\n",
      "{'min_samples_leaf': 16, 'min_samples_split': 20, 'n_estimators': 50}\n",
      "\n",
      "{'min_samples_leaf': 2, 'min_samples_split': 16, 'n_estimators': 5}\n",
      "\n"
     ]
    }
   ],
   "source": [
    "rf_scores = []\n",
    "rf_models = []\n",
    "rf_kf = KFold(n_splits=4, random_state=42, shuffle=True)\n",
    "for train_index, test_index in rf_kf.split(X, y):\n",
    "    \n",
    "    X_train, X_test, y_train, y_test = X.iloc[train_index], X.iloc[test_index], y.iloc[train_index], y.iloc[test_index]\n",
    "    \n",
    "    rfc_params = {'n_estimators': (5, 10, 20, 30, 50, 100),\n",
    "                  'min_samples_split': (8, 16, 20, 24, 32, 48),\n",
    "                  'min_samples_leaf': (2, 4, 6, 8, 16)\n",
    "             }\n",
    "    rfc = GridSearchCV(RFC(),\n",
    "                       rfc_params,\n",
    "                       scoring='roc_auc',\n",
    "                       cv=4,\n",
    "                       iid=False,\n",
    "                       n_jobs=-1)\n",
    "    \n",
    "    rfc.fit(X_train, y_train.values.ravel())\n",
    "    \n",
    "    print(rfc.best_params_)\n",
    "    rf_scores.append(rfc.score(X_test, y_test))\n",
    "    rf_models.append(RFC(**rfc.best_params_))\n",
    "    print()"
   ]
  },
  {
   "cell_type": "code",
   "execution_count": 29,
   "metadata": {},
   "outputs": [
    {
     "name": "stdout",
     "output_type": "stream",
     "text": [
      "[ 0.711, 0.656, 0.667, 0.649 ]\n",
      "The average score is 0.671\n"
     ]
    }
   ],
   "source": [
    "print('[', ', '.join([f\"{score:.3f}\" for score in rf_scores]), ']')\n",
    "rf_score = np.mean(rf_scores)\n",
    "print(f\"The average score is {rf_score:.3f}\")"
   ]
  },
  {
   "cell_type": "code",
   "execution_count": 10,
   "metadata": {},
   "outputs": [],
   "source": [
    "rf_models;"
   ]
  },
  {
   "cell_type": "markdown",
   "metadata": {},
   "source": [
    "## XGBoost"
   ]
  },
  {
   "cell_type": "code",
   "execution_count": 11,
   "metadata": {},
   "outputs": [],
   "source": [
    "import xgboost as xgb\n",
    "from xgboost import XGBClassifier as XGB"
   ]
  },
  {
   "cell_type": "code",
   "execution_count": 12,
   "metadata": {},
   "outputs": [
    {
     "name": "stdout",
     "output_type": "stream",
     "text": [
      "{'learning_rate': 0.01, 'n_estimators': 5}\n",
      "\n",
      "{'learning_rate': 0.01, 'n_estimators': 10}\n",
      "\n",
      "{'learning_rate': 0.01, 'n_estimators': 2}\n",
      "\n",
      "{'learning_rate': 0.01, 'n_estimators': 2}\n",
      "\n",
      "{'learning_rate': 0.1, 'n_estimators': 50}\n",
      "\n"
     ]
    }
   ],
   "source": [
    "xgb_scores = []\n",
    "xgb_models = []\n",
    "xgb_kf = KFold(n_splits=5, random_state=42, shuffle=True)\n",
    "for train_index, test_index in xgb_kf.split(X, y):\n",
    "    \n",
    "    X_train, X_test, y_train, y_test = X.iloc[train_index], X.iloc[test_index], y.iloc[train_index], y.iloc[test_index]\n",
    "    \n",
    "    xgb_params = {'n_estimators': (2, 5, 10, 20, 30, 50),\n",
    "                  'learning_rate': (.01, .05, .1, .2, .3)\n",
    "             }\n",
    "    xgbc = GridSearchCV(XGB(booster='gblinear', colsample_bytree=.3, n_jobs=-1),\n",
    "                        xgb_params,\n",
    "                        scoring='roc_auc',\n",
    "                        cv=3,\n",
    "                        iid=False,\n",
    "                        n_jobs=-1)\n",
    "    \n",
    "    xgbc.fit(X_train, y_train.values.ravel())\n",
    "    \n",
    "    print(xgbc.best_params_)\n",
    "    xgb_scores.append(xgbc.score(X_test, y_test))\n",
    "    xgb_models.append(XGB(**xgbc.best_params_))\n",
    "    print()"
   ]
  },
  {
   "cell_type": "code",
   "execution_count": 28,
   "metadata": {},
   "outputs": [
    {
     "name": "stdout",
     "output_type": "stream",
     "text": [
      "[ 0.809, 0.719, 0.865, 0.712, 0.706 ]\n",
      "The average score is 0.762\n"
     ]
    }
   ],
   "source": [
    "print('[', ', '.join([f\"{score:.3f}\" for score in xgb_scores]), ']')\n",
    "xgb_score = np.mean(xgb_scores)\n",
    "print(f\"The average score is {xgb_score:.3f}\")"
   ]
  },
  {
   "cell_type": "code",
   "execution_count": 14,
   "metadata": {},
   "outputs": [],
   "source": [
    "xgb_models;"
   ]
  },
  {
   "cell_type": "markdown",
   "metadata": {},
   "source": [
    "## AdaBoost"
   ]
  },
  {
   "cell_type": "code",
   "execution_count": 15,
   "metadata": {},
   "outputs": [],
   "source": [
    "from sklearn.ensemble import AdaBoostClassifier as ABC"
   ]
  },
  {
   "cell_type": "code",
   "execution_count": 16,
   "metadata": {},
   "outputs": [
    {
     "name": "stdout",
     "output_type": "stream",
     "text": [
      "{'learning_rate': 0.01, 'n_estimators': 2}\n",
      "\n",
      "{'learning_rate': 0.1, 'n_estimators': 10}\n",
      "\n",
      "{'learning_rate': 0.05, 'n_estimators': 10}\n",
      "\n",
      "{'learning_rate': 0.3, 'n_estimators': 20}\n",
      "\n"
     ]
    }
   ],
   "source": [
    "ab_scores = []\n",
    "ab_models = []\n",
    "ab_kf = KFold(n_splits=4, random_state=42, shuffle=True)\n",
    "for train_index, test_index in ab_kf.split(X, y):\n",
    "    \n",
    "    X_train, X_test, y_train, y_test = X.iloc[train_index], X.iloc[test_index], y.iloc[train_index], y.iloc[test_index]\n",
    "    \n",
    "    ab_params = {'n_estimators': (2, 5, 10, 20, 30, 50),\n",
    "                  'learning_rate': (.01, .05, .1, .2, .3)\n",
    "             }\n",
    "    ab = GridSearchCV(ABC(),\n",
    "                       ab_params,\n",
    "                       scoring='roc_auc',\n",
    "                       cv=4,\n",
    "                       iid=False,\n",
    "                       n_jobs=-1)\n",
    "    ab.fit(X_train, y_train.values.ravel())\n",
    "    \n",
    "    print(ab.best_params_)\n",
    "    ab_scores.append(ab.score(X_test, y_test))\n",
    "    ab_models.append(ABC(**ab.best_params_))\n",
    "    print()"
   ]
  },
  {
   "cell_type": "code",
   "execution_count": 27,
   "metadata": {},
   "outputs": [
    {
     "name": "stdout",
     "output_type": "stream",
     "text": [
      "[ 0.671, 0.760, 0.623, 0.658 ]\n",
      "The average score is 0.678\n"
     ]
    }
   ],
   "source": [
    "print('[', ', '.join([f\"{score:.3f}\" for score in ab_scores]), ']')\n",
    "ab_score = np.mean(ab_scores)\n",
    "print(f\"The average score is {ab_score:.3f}\")"
   ]
  },
  {
   "cell_type": "code",
   "execution_count": 18,
   "metadata": {},
   "outputs": [],
   "source": [
    "xgb_models;"
   ]
  },
  {
   "cell_type": "code",
   "execution_count": null,
   "metadata": {},
   "outputs": [],
   "source": []
  }
 ],
 "metadata": {
  "kernelspec": {
   "display_name": "Python 3",
   "language": "python",
   "name": "python3"
  },
  "language_info": {
   "codemirror_mode": {
    "name": "ipython",
    "version": 3
   },
   "file_extension": ".py",
   "mimetype": "text/x-python",
   "name": "python",
   "nbconvert_exporter": "python",
   "pygments_lexer": "ipython3",
   "version": "3.7.3"
  }
 },
 "nbformat": 4,
 "nbformat_minor": 2
}
